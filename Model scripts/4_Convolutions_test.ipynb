{
 "cells": [
  {
   "cell_type": "code",
   "execution_count": 1,
   "metadata": {},
   "outputs": [],
   "source": [
    "%matplotlib inline\n",
    "\n",
    "import pandas as pd\n",
    "import numpy as np\n",
    "import pickle\n",
    "import matplotlib.pyplot as plt\n",
    "\n",
    "from sklearn.model_selection import train_test_split, TimeSeriesSplit"
   ]
  },
  {
   "cell_type": "code",
   "execution_count": 2,
   "metadata": {},
   "outputs": [],
   "source": [
    "data_training_full = pd.read_pickle('/mnt/disks/disk1/data_train_dct_volume.pkl')"
   ]
  },
  {
   "cell_type": "code",
   "execution_count": 3,
   "metadata": {},
   "outputs": [],
   "source": [
    "def convolve(pred, y):\n",
    "    pred_fft = np.fft.fft(pred)\n",
    "    y_fft = np.fft.fft(y)\n",
    "    y_fft_zp = np.zeros(pred_fft.size, dtype=np.cdouble)\n",
    "    y_fft_zp[:min(y.size, pred.size, 100)] = y_fft[:min(y.size, pred.size, 100)]\n",
    "    conv = pred_fft * y_fft_zp\n",
    "    return np.real(np.fft.ifft(conv))"
   ]
  },
  {
   "cell_type": "code",
   "execution_count": 4,
   "metadata": {},
   "outputs": [
    {
     "name": "stdout",
     "output_type": "stream",
     "text": [
      "[[ 1.         -0.01223501]\n",
      " [-0.01223501  1.        ]]\n",
      "[[1.         0.05799724]\n",
      " [0.05799724 1.        ]]\n",
      "CPU times: user 4.18 s, sys: 1.13 s, total: 5.32 s\n",
      "Wall time: 7.37 s\n"
     ]
    }
   ],
   "source": [
    "%%time\n",
    "tscv = TimeSeriesSplit(n_splits=5)\n",
    "conv = convolve(data_training_full['bidRate0'].values, data_training_full['y'].values)\n",
    "\n",
    "print(np.corrcoef(conv, data_training_full['y'].values))\n",
    "print(np.corrcoef(data_training_full['bidAskVolume0'].values, data_training_full['y'].values))"
   ]
  }
 ],
 "metadata": {
  "kernelspec": {
   "display_name": "Python 3",
   "language": "python",
   "name": "python3"
  },
  "language_info": {
   "codemirror_mode": {
    "name": "ipython",
    "version": 3
   },
   "file_extension": ".py",
   "mimetype": "text/x-python",
   "name": "python",
   "nbconvert_exporter": "python",
   "pygments_lexer": "ipython3",
   "version": "3.7.3"
  }
 },
 "nbformat": 4,
 "nbformat_minor": 2
}
