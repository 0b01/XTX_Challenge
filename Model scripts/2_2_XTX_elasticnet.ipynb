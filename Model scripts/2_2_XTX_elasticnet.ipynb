{
 "cells": [
  {
   "cell_type": "code",
   "execution_count": 1,
   "metadata": {},
   "outputs": [],
   "source": [
    "%matplotlib inline\n",
    "\n",
    "import pandas as pd\n",
    "import numpy as np\n",
    "import pickle\n",
    "import matplotlib.pyplot as plt\n",
    "import pylab\n",
    "import copy \n",
    "\n",
    "from sklearn import ensemble\n",
    "from sklearn.metrics import mean_squared_error, r2_score\n",
    "from sklearn.model_selection import train_test_split, TimeSeriesSplit, KFold\n",
    "from sklearn.model_selection import ParameterGrid\n",
    "from sklearn import metrics\n",
    "\n",
    "from sklearn.linear_model import ElasticNet"
   ]
  },
  {
   "cell_type": "code",
   "execution_count": 2,
   "metadata": {},
   "outputs": [],
   "source": [
    "data_training_full = pd.read_pickle('/mnt/disks/disk1/data_train_1209.pkl')"
   ]
  },
  {
   "cell_type": "code",
   "execution_count": 3,
   "metadata": {},
   "outputs": [],
   "source": [
    "data_training = data_training_full.sample(frac=0.1, random_state=123).sort_index()\n",
    "data_training_h1 = data_training_full.iloc[:data_training_full.shape[0]//2,:].sample(frac=0.1, random_state=123).sort_index()\n",
    "data_training_h2 = data_training_full.iloc[data_training_full.shape[0]//2:,:].sample(frac=0.1, random_state=123).sort_index()"
   ]
  },
  {
   "cell_type": "code",
   "execution_count": 4,
   "metadata": {},
   "outputs": [],
   "source": [
    "def model_wf_cv(alg, dtrain, predictors, target, n_splits):\n",
    "    tscv = KFold(n_splits=n_splits) #TimeSeriesSplit\n",
    "    cv_scores_test = np.zeros((n_splits, 1))\n",
    "    cv_scores_train = np.zeros((n_splits, 1))\n",
    "    cv_scores_r2_test = np.zeros((n_splits, 1))\n",
    "    \n",
    "    for i, (train_index, test_index) in enumerate(tscv.split(dtrain)):\n",
    "        \n",
    "        alg.fit(dtrain.iloc[train_index][predictors], dtrain.iloc[train_index][target])\n",
    "        \n",
    "        test_predictions = alg.predict(dtrain.iloc[test_index][predictors])\n",
    "        train_predictions = alg.predict(dtrain.iloc[train_index][predictors])\n",
    "        \n",
    "        cv_scores_test[i, 0] = np.sqrt(metrics.mean_squared_error(dtrain.iloc[test_index][target].values, \n",
    "                                                             test_predictions))\n",
    "        cv_scores_train[i, 0] = np.sqrt(metrics.mean_squared_error(dtrain.iloc[train_index][target].values, \n",
    "                                                             train_predictions))\n",
    "        cv_scores_r2_test[i, 0] = metrics.r2_score(dtrain.iloc[test_index][target].values, \n",
    "                                                             test_predictions)\n",
    "        \n",
    "    return np.mean(cv_scores_train), np.mean(cv_scores_test), np.mean(cv_scores_r2_test)\n",
    "\n",
    "def grid_search_rmse(alg, dtrain, predictors, target, n_splits, parameters):\n",
    "    best_score = np.inf\n",
    "    for g in ParameterGrid(parameters):\n",
    "        print(g)\n",
    "        alg.set_params(**g)\n",
    "        wf_cv_score_train, wf_cv_score_test, wf_cv_score_test_r2 = model_wf_cv(alg, dtrain, predictors, target, n_splits)\n",
    "        if(wf_cv_score_test < best_score):\n",
    "            best_score = wf_cv_score_test\n",
    "            best_grid = g\n",
    "        print(\"\\tCV score test: %f (R2 %f)\\tCV score train: %f\"%(wf_cv_score_test, wf_cv_score_test_r2, wf_cv_score_train))\n",
    "    return best_score, best_grid"
   ]
  },
  {
   "cell_type": "code",
   "execution_count": 5,
   "metadata": {},
   "outputs": [],
   "source": [
    "predictors = list(data_training)\n",
    "predictors = np.array(predictors)[[x != 'y' for x in predictors]]\n",
    "\n",
    "regr = ElasticNet(\n",
    "    normalize=True,\n",
    "    random_state=0\n",
    ")\n",
    "\n",
    "regr_h1 = ElasticNet(\n",
    "    normalize=True,\n",
    "    random_state=0\n",
    ")\n",
    "\n",
    "regr_h2 = ElasticNet(\n",
    "    normalize=True,\n",
    "    random_state=0\n",
    ")"
   ]
  },
  {
   "cell_type": "code",
   "execution_count": 7,
   "metadata": {},
   "outputs": [
    {
     "name": "stdout",
     "output_type": "stream",
     "text": [
      "{'alpha': 7e-06, 'l1_ratio': 0.5}\n",
      "\tCV score test: 0.696736 (R2 0.018406)\tCV score train: 0.698550\n",
      "{'alpha': 7e-06, 'l1_ratio': 0.6}\n",
      "\tCV score test: 0.696729 (R2 0.018434)\tCV score train: 0.698530\n",
      "{'alpha': 7e-06, 'l1_ratio': 0.7}\n",
      "\tCV score test: 0.696728 (R2 0.018445)\tCV score train: 0.698504\n",
      "{'alpha': 7e-06, 'l1_ratio': 0.8}\n",
      "\tCV score test: 0.696740 (R2 0.018421)\tCV score train: 0.698470\n",
      "{'alpha': 7e-06, 'l1_ratio': 0.9}\n",
      "\tCV score test: 0.696797 (R2 0.018266)\tCV score train: 0.698418\n",
      "{'alpha': 9e-06, 'l1_ratio': 0.5}\n",
      "\tCV score test: 0.696736 (R2 0.018409)\tCV score train: 0.698768\n",
      "{'alpha': 9e-06, 'l1_ratio': 0.6}\n",
      "\tCV score test: 0.696724 (R2 0.018450)\tCV score train: 0.698751\n",
      "{'alpha': 9e-06, 'l1_ratio': 0.7}\n",
      "\tCV score test: 0.696722 (R2 0.018467)\tCV score train: 0.698729\n",
      "{'alpha': 9e-06, 'l1_ratio': 0.8}\n",
      "\tCV score test: 0.696723 (R2 0.018473)\tCV score train: 0.698696\n",
      "{'alpha': 9e-06, 'l1_ratio': 0.9}\n",
      "\tCV score test: 0.696757 (R2 0.018394)\tCV score train: 0.698642\n",
      "{'alpha': 1e-05, 'l1_ratio': 0.5}\n",
      "\tCV score test: 0.696749 (R2 0.018372)\tCV score train: 0.698867\n",
      "{'alpha': 1e-05, 'l1_ratio': 0.6}\n",
      "\tCV score test: 0.696736 (R2 0.018419)\tCV score train: 0.698854\n",
      "{'alpha': 1e-05, 'l1_ratio': 0.7}\n",
      "\tCV score test: 0.696727 (R2 0.018453)\tCV score train: 0.698833\n",
      "{'alpha': 1e-05, 'l1_ratio': 0.8}\n",
      "\tCV score test: 0.696723 (R2 0.018478)\tCV score train: 0.698801\n",
      "{'alpha': 1e-05, 'l1_ratio': 0.9}\n",
      "\tCV score test: 0.696748 (R2 0.018424)\tCV score train: 0.698749\n",
      "(0.6967217167008414, {'alpha': 9e-06, 'l1_ratio': 0.7})\n",
      "CPU times: user 14min 54s, sys: 2min 9s, total: 17min 4s\n",
      "Wall time: 5min 58s\n"
     ]
    }
   ],
   "source": [
    "%%time\n",
    "\n",
    "params_elastnet = {\n",
    "    'alpha': [7e-6, 9e-6, 1e-5], \n",
    "    'l1_ratio': [0.5, 0.6, 0.7, 0.8, 0.9]\n",
    "}\n",
    "\n",
    "print(grid_search_rmse(copy.deepcopy(regr), data_training, predictors, 'y', 3, params_elastnet))"
   ]
  },
  {
   "cell_type": "code",
   "execution_count": 9,
   "metadata": {},
   "outputs": [
    {
     "name": "stdout",
     "output_type": "stream",
     "text": [
      "{'alpha': 5e-06, 'l1_ratio': 0.5}\n",
      "\tCV score test: 0.769017 (R2 0.016065)\tCV score train: 0.764399\n",
      "{'alpha': 5e-06, 'l1_ratio': 0.7}\n",
      "\tCV score test: 0.769133 (R2 0.015766)\tCV score train: 0.764311\n",
      "{'alpha': 5e-06, 'l1_ratio': 0.9}\n",
      "\tCV score test: 0.769342 (R2 0.015234)\tCV score train: 0.764163\n",
      "{'alpha': 1e-05, 'l1_ratio': 0.5}\n",
      "\tCV score test: 0.768405 (R2 0.017640)\tCV score train: 0.765108\n",
      "{'alpha': 1e-05, 'l1_ratio': 0.7}\n",
      "\tCV score test: 0.768392 (R2 0.017676)\tCV score train: 0.765071\n",
      "{'alpha': 1e-05, 'l1_ratio': 0.9}\n",
      "\tCV score test: 0.768474 (R2 0.017468)\tCV score train: 0.764965\n",
      "{'alpha': 0.0001, 'l1_ratio': 0.5}\n",
      "\tCV score test: 0.769509 (R2 0.014833)\tCV score train: 0.769164\n",
      "{'alpha': 0.0001, 'l1_ratio': 0.7}\n",
      "\tCV score test: 0.769668 (R2 0.014430)\tCV score train: 0.769452\n",
      "{'alpha': 0.0001, 'l1_ratio': 0.9}\n",
      "\tCV score test: 0.769605 (R2 0.014589)\tCV score train: 0.769428\n",
      "(0.7683916538448633, {'alpha': 1e-05, 'l1_ratio': 0.7})\n",
      "CPU times: user 6min 48s, sys: 41.1 s, total: 7min 29s\n",
      "Wall time: 2min 18s\n"
     ]
    }
   ],
   "source": [
    "%%time\n",
    "\n",
    "params_elastnet_h1 = {\n",
    "    'alpha': [5e-6, 1e-5, 1e-4], \n",
    "    'l1_ratio': [0.5, 0.7, 0.9]\n",
    "}\n",
    "\n",
    "print(grid_search_rmse(copy.deepcopy(regr_h1), data_training_h1, predictors, 'y', 3, params_elastnet_h1))"
   ]
  },
  {
   "cell_type": "code",
   "execution_count": 12,
   "metadata": {},
   "outputs": [
    {
     "name": "stdout",
     "output_type": "stream",
     "text": [
      "{'alpha': 5e-06, 'l1_ratio': 0.3}\n",
      "\tCV score test: 0.628012 (R2 0.012688)\tCV score train: 0.624125\n",
      "{'alpha': 5e-06, 'l1_ratio': 0.5}\n",
      "\tCV score test: 0.627973 (R2 0.012811)\tCV score train: 0.624095\n",
      "{'alpha': 5e-06, 'l1_ratio': 0.7}\n",
      "\tCV score test: 0.628039 (R2 0.012587)\tCV score train: 0.624044\n",
      "{'alpha': 1e-05, 'l1_ratio': 0.3}\n",
      "\tCV score test: 0.627394 (R2 0.014687)\tCV score train: 0.624728\n",
      "{'alpha': 1e-05, 'l1_ratio': 0.5}\n",
      "\tCV score test: 0.627295 (R2 0.015000)\tCV score train: 0.624718\n",
      "{'alpha': 1e-05, 'l1_ratio': 0.7}\n",
      "\tCV score test: 0.627322 (R2 0.014901)\tCV score train: 0.624695\n",
      "{'alpha': 0.0001, 'l1_ratio': 0.3}\n",
      "\tCV score test: 0.627687 (R2 0.014018)\tCV score train: 0.628591\n",
      "{'alpha': 0.0001, 'l1_ratio': 0.5}\n",
      "\tCV score test: 0.627958 (R2 0.013184)\tCV score train: 0.629083\n",
      "{'alpha': 0.0001, 'l1_ratio': 0.7}\n",
      "\tCV score test: 0.628095 (R2 0.012766)\tCV score train: 0.629381\n",
      "(0.6272953815035068, {'alpha': 1e-05, 'l1_ratio': 0.5})\n",
      "CPU times: user 6min 48s, sys: 41.8 s, total: 7min 30s\n",
      "Wall time: 2min 19s\n"
     ]
    }
   ],
   "source": [
    "%%time\n",
    "\n",
    "params_elastnet_h2 = {\n",
    "    'alpha': [5e-6, 1e-5, 1e-4], \n",
    "    'l1_ratio': [0.3, 0.5, 0.7]\n",
    "}\n",
    "\n",
    "print(grid_search_rmse(copy.deepcopy(regr_h2), data_training_h2, predictors, 'y', 3, params_elastnet_h2))"
   ]
  },
  {
   "cell_type": "code",
   "execution_count": 6,
   "metadata": {},
   "outputs": [],
   "source": [
    "regr.set_params(alpha=9e-06, l1_ratio=0.7)\n",
    "regr_h1.set_params(alpha=1e-05, l1_ratio=0.7)\n",
    "regr_h2.set_params(alpha=1e-05, l1_ratio=0.5)\n",
    "\n",
    "regr.fit(data_training[predictors], data_training['y'])\n",
    "regr_h1.fit(data_training_h1[predictors], data_training_h1['y'])\n",
    "regr_h2.fit(data_training_h1[predictors], data_training_h2['y'])\n",
    "\n",
    "pickle.dump([regr, regr_h1, regr_h2], open(\"./core_models/regr1.pkl\", \"wb\"))\n",
    "pickle.dump(predictors, open(\"./core_models/regr1_columns.pkl\", \"wb\"))"
   ]
  }
 ],
 "metadata": {
  "kernelspec": {
   "display_name": "Python 3",
   "language": "python",
   "name": "python3"
  },
  "language_info": {
   "codemirror_mode": {
    "name": "ipython",
    "version": 3
   },
   "file_extension": ".py",
   "mimetype": "text/x-python",
   "name": "python",
   "nbconvert_exporter": "python",
   "pygments_lexer": "ipython3",
   "version": "3.7.3"
  }
 },
 "nbformat": 4,
 "nbformat_minor": 2
}
