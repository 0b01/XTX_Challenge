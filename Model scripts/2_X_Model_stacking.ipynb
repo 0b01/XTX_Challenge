{
 "cells": [
  {
   "cell_type": "code",
   "execution_count": 1,
   "metadata": {},
   "outputs": [],
   "source": [
    "%matplotlib inline\n",
    "\n",
    "import pandas as pd\n",
    "import numpy as np\n",
    "import pickle\n",
    "import copy \n",
    "import matplotlib.pyplot as plt\n",
    "\n",
    "from sklearn.model_selection import KFold\n",
    "from sklearn import metrics\n",
    "from sklearn.svm import SVR\n",
    "from sklearn.model_selection import ParameterGrid\n",
    "from sklearn.ensemble import RandomForestRegressor\n",
    "\n",
    "from multiprocessing import set_start_method\n",
    "import multiprocessing as mp\n",
    "import os\n",
    "\n",
    "import warnings\n",
    "warnings.filterwarnings('ignore')\n",
    "\n",
    "try:\n",
    "    set_start_method(\"forkserver\")\n",
    "except:\n",
    "    pass\n",
    "\n",
    "os.environ[\"OMP_NUM_THREADS\"] = \"8\""
   ]
  },
  {
   "cell_type": "code",
   "execution_count": 2,
   "metadata": {},
   "outputs": [],
   "source": [
    "xgb1, xgb1_h1, xgb1_h2 = pickle.load(open(\"./core_models/xgb1.pkl\", \"rb\"))\n",
    "regr1, regr1_h1, regr1_h2 = pickle.load(open(\"./core_models/regr1.pkl\", \"rb\"))\n",
    "xgb1_columns = pickle.load(open(\"./core_models/xgb1_columns.pkl\", \"rb\"))\n",
    "regr1_columns = pickle.load(open(\"./core_models/regr1_columns.pkl\", \"rb\"))\n",
    "models = [xgb1, regr1]"
   ]
  },
  {
   "cell_type": "code",
   "execution_count": 3,
   "metadata": {},
   "outputs": [],
   "source": [
    "# Read source data\n",
    "data_training_full = pd.read_pickle('/mnt/disks/disk1/data_train_1209.pkl').iloc[1:,:]\n",
    "\n",
    "data_h1 = data_training_full.iloc[:data_training_full.shape[0]//2,:].sample(frac=0.2).sort_index()\n",
    "data_h2 = data_training_full.iloc[data_training_full.shape[0]//2:,:].sample(frac=0.2).sort_index()\n",
    "\n",
    "data = data_h1.append(data_h2)"
   ]
  },
  {
   "cell_type": "code",
   "execution_count": 4,
   "metadata": {},
   "outputs": [
    {
     "name": "stdout",
     "output_type": "stream",
     "text": [
      "0\n",
      "0\n"
     ]
    }
   ],
   "source": [
    "print(np.sum(data_h1.iloc[1,:5] != data.iloc[1,:5]))\n",
    "print(np.sum(data_h2.iloc[-2,:5] != data.iloc[-2,:5]))"
   ]
  },
  {
   "cell_type": "code",
   "execution_count": 8,
   "metadata": {},
   "outputs": [
    {
     "name": "stdout",
     "output_type": "stream",
     "text": [
      "CPU times: user 13h 29min 41s, sys: 1min 33s, total: 13h 31min 14s\n",
      "Wall time: 1h 42min 48s\n"
     ]
    }
   ],
   "source": [
    "%%time\n",
    "\n",
    "n_splits = 3\n",
    "\n",
    "def model_fcast_kfold(dtrain, model, predictors, n_splits):\n",
    "    train_pred = np.empty((0,1), float)\n",
    "    kf_split = KFold(n_splits=n_splits)\n",
    "\n",
    "    for (train_index, test_index) in kf_split.split(dtrain):\n",
    "        model.fit(dtrain.iloc[train_index][predictors], dtrain.iloc[train_index]['y'])\n",
    "        test_predictions = model.predict(dtrain.iloc[test_index][predictors])\n",
    "        train_pred = np.append(train_pred, test_predictions)\n",
    "    \n",
    "    return train_pred\n",
    "\n",
    "stack_df_h1 = pd.DataFrame()\n",
    "stack_df_h2 = pd.DataFrame()\n",
    "stack_df_h1['y'] = data_h1['y']\n",
    "stack_df_h2['y'] = data_h2['y']\n",
    "\n",
    "stack_df_h1['regr_h1_pred'] = model_fcast_kfold(data_h1, copy.deepcopy(regr1_h1), regr1_columns, n_splits)\n",
    "stack_df_h2['regr_h1_pred'] = regr1_h1.predict(data_h2[regr1_columns])\n",
    "\n",
    "stack_df_h1['regr_h2_pred'] = regr1_h2.predict(data_h1[regr1_columns])\n",
    "stack_df_h2['regr_h2_pred'] = model_fcast_kfold(data_h2, copy.deepcopy(regr1_h2), regr1_columns, n_splits)\n",
    "\n",
    "stack_df_h1['xgb_h1_pred'] = model_fcast_kfold(data_h1, copy.deepcopy(xgb1_h1), xgb1_columns, n_splits)\n",
    "stack_df_h2['xgb_h1_pred'] = xgb1_h1.predict(data_h2[xgb1_columns])\n",
    "\n",
    "stack_df_h1['xgb_h2_pred'] = xgb1_h2.predict(data_h1[xgb1_columns])\n",
    "stack_df_h2['xgb_h2_pred'] = model_fcast_kfold(data_h2, copy.deepcopy(xgb1_h2), xgb1_columns, n_splits)\n",
    "\n",
    "stack_df = stack_df_h1.append(stack_df_h2)\n",
    "stack_df['xgb_pred'] = model_fcast_kfold(data, copy.deepcopy(xgb1), xgb1_columns, n_splits)\n",
    "stack_df['regr_full_pred'] = model_fcast_kfold(data, copy.deepcopy(regr1), regr1_columns, n_splits)"
   ]
  },
  {
   "cell_type": "code",
   "execution_count": 3,
   "metadata": {},
   "outputs": [],
   "source": [
    "# stack_df.to_pickle('/mnt/disks/disk1/data_stacking_1309.pkl')\n",
    "stack_df = pd.read_pickle('/mnt/disks/disk1/data_stacking_1309.pkl')"
   ]
  },
  {
   "cell_type": "code",
   "execution_count": 4,
   "metadata": {
    "scrolled": true
   },
   "outputs": [
    {
     "name": "stdout",
     "output_type": "stream",
     "text": [
      "0.022629472332958644\n",
      "0.020181847694933586\n",
      "0.01914359963817336\n",
      "0.018416416464690277\n",
      "0.01763488583139372\n",
      "0.0046423746182651104\n"
     ]
    }
   ],
   "source": [
    "print(metrics.r2_score(stack_df['y'].values, stack_df['xgb_pred'].values))\n",
    "print(metrics.r2_score(stack_df['y'].values, stack_df['xgb_h1_pred'].values))\n",
    "print(metrics.r2_score(stack_df['y'].values, stack_df['xgb_h2_pred'].values))\n",
    "print(metrics.r2_score(stack_df['y'].values, stack_df['regr_full_pred'].values))\n",
    "print(metrics.r2_score(stack_df['y'].values, stack_df['regr_h1_pred'].values))\n",
    "print(metrics.r2_score(stack_df['y'].values, stack_df['regr_h2_pred'].values))\n",
    "# print('XGB Forecast - right model for the sample')\n",
    "# print(metrics.r2_score(stack_df_h1['y'].values, stack_df_h1['xgb_h1_pred'].values))\n",
    "# print(metrics.r2_score(stack_df_h2['y'].values, stack_df_h2['xgb_h2_pred'].values))\n",
    "# print('XGB Forecast - wrong model for the sample')\n",
    "# print(metrics.r2_score(stack_df_h2['y'].values, stack_df_h2['xgb_h1_pred'].values))\n",
    "# print(metrics.r2_score(stack_df_h1['y'].values, stack_df_h1['xgb_h2_pred'].values))\n",
    "# print('Elnet Forecast - right model for the sample')\n",
    "# print(metrics.r2_score(stack_df_h1['y'].values, stack_df_h1['regr_h1_pred'].values))\n",
    "# print(metrics.r2_score(stack_df_h2['y'].values, stack_df_h2['regr_h2_pred'].values))\n",
    "# print('Elnet Forecast - wrong model for the sample')\n",
    "# print(metrics.r2_score(stack_df_h2['y'].values, stack_df_h2['regr_h1_pred'].values))\n",
    "# print(metrics.r2_score(stack_df_h1['y'].values, stack_df_h1['regr_h2_pred'].values))\n",
    "# print('')\n",
    "# print(metrics.r2_score(stack_df['regr_h1_pred'].values, stack_df['regr_h2_pred'].values))\n",
    "# print(metrics.r2_score(stack_df['xgb_pred'].values, stack_df['regr_h2_pred'].values))\n",
    "# print(metrics.r2_score(stack_df['xgb_pred'].values, stack_df['regr_h1_pred'].values))\n",
    "# print(metrics.r2_score(stack_df['regr_full_pred'].values, stack_df['regr_h1_pred'].values))\n",
    "# print(metrics.r2_score(stack_df['regr_full_pred'].values, stack_df['regr_h2_pred'].values))"
   ]
  },
  {
   "cell_type": "code",
   "execution_count": 5,
   "metadata": {},
   "outputs": [],
   "source": [
    "def model_wf_cv(alg, dtrain, predictors, target, n_splits):\n",
    "    tscv = KFold(n_splits=n_splits) #TimeSeriesSplit\n",
    "    cv_scores_test = np.zeros((n_splits, 1))\n",
    "    cv_scores_train = np.zeros((n_splits, 1))\n",
    "    cv_scores_r2_test = np.zeros((n_splits, 1))\n",
    "    \n",
    "    for i, (train_index, test_index) in enumerate(tscv.split(dtrain)):\n",
    "        \n",
    "        alg.fit(dtrain.iloc[train_index][predictors], \n",
    "                dtrain.iloc[train_index][target])\n",
    "        \n",
    "        test_predictions = alg.predict(dtrain.iloc[test_index][predictors])\n",
    "        train_predictions = alg.predict(dtrain.iloc[train_index][predictors])\n",
    "        \n",
    "        cv_scores_test[i, 0] = metrics.mean_squared_error(dtrain.iloc[test_index][target].values, \n",
    "                                                             test_predictions)\n",
    "        cv_scores_train[i, 0] = metrics.mean_squared_error(dtrain.iloc[train_index][target].values, \n",
    "                                                             train_predictions)\n",
    "        cv_scores_r2_test[i, 0] = metrics.r2_score(dtrain.iloc[test_index][target].values, \n",
    "                                                             test_predictions)\n",
    "        # print('\\t\\t{}\\{}'.format(cv_scores_test[i, 0], cv_scores_train[i, 0]))\n",
    "        \n",
    "    return np.sqrt(np.mean(cv_scores_train)), np.sqrt(np.mean(cv_scores_test)), np.mean(cv_scores_r2_test)\n",
    "\n",
    "def grid_search_rmse(alg, dtrain, predictors, target, n_splits, parameters):\n",
    "    best_score = np.inf\n",
    "    for g in ParameterGrid(parameters):\n",
    "        print(g)\n",
    "        alg.set_params(**g)\n",
    "        wf_cv_score_train, wf_cv_score_test, wf_cv_score_test_r2 = model_wf_cv(alg, dtrain, predictors, target, n_splits)\n",
    "        if(wf_cv_score_test < best_score):\n",
    "            best_score = wf_cv_score_test\n",
    "            best_grid = g\n",
    "        print(\"\\tCV score test: %f (R2 %f)\\tCV score train: %f\"%(wf_cv_score_test, wf_cv_score_test_r2, wf_cv_score_train))\n",
    "    return best_score, best_grid"
   ]
  },
  {
   "cell_type": "code",
   "execution_count": 7,
   "metadata": {},
   "outputs": [
    {
     "name": "stdout",
     "output_type": "stream",
     "text": [
      "0.022063417883265823\n"
     ]
    }
   ],
   "source": [
    "predictors = [\n",
    "    'xgb_pred',\n",
    "    'xgb_h1_pred',\n",
    "    'xgb_h2_pred',\n",
    "    'regr_full_pred',\n",
    "    'regr_h1_pred',\n",
    "    'regr_h2_pred'\n",
    "]\n",
    "\n",
    "svr = SVR(kernel='rbf')\n",
    "\n",
    "gridsearch_df = stack_df.sample(frac=0.1).sort_index()\n",
    "print(metrics.r2_score(gridsearch_df['y'].values, gridsearch_df['xgb_pred'].values))\n"
   ]
  },
  {
   "cell_type": "code",
   "execution_count": 6,
   "metadata": {
    "scrolled": true
   },
   "outputs": [
    {
     "name": "stdout",
     "output_type": "stream",
     "text": [
      "0.022026914819194943\n",
      "{'C': 0.01, 'gamma': 0.01}\n",
      "\tCV score test: 0.699413 (R2 0.012194)\tCV score train: 0.702634\n",
      "{'C': 0.01, 'gamma': 0.1}\n",
      "\tCV score test: 0.696469 (R2 0.020507)\tCV score train: 0.699868\n",
      "{'C': 0.01, 'gamma': 1}\n",
      "\tCV score test: 0.696358 (R2 0.020778)\tCV score train: 0.699628\n",
      "{'C': 0.01, 'gamma': 10}\n",
      "\tCV score test: 0.696900 (R2 0.019259)\tCV score train: 0.700047\n",
      "{'C': 0.1, 'gamma': 0.01}\n",
      "\tCV score test: 0.696453 (R2 0.020552)\tCV score train: 0.699851\n",
      "{'C': 0.1, 'gamma': 0.1}\n",
      "\tCV score test: 0.696131 (R2 0.021419)\tCV score train: 0.699415\n",
      "{'C': 0.1, 'gamma': 1}\n",
      "\tCV score test: 0.696321 (R2 0.020905)\tCV score train: 0.699611\n",
      "{'C': 0.1, 'gamma': 10}\n",
      "\tCV score test: 0.696660 (R2 0.019940)\tCV score train: 0.699236\n",
      "{'C': 1, 'gamma': 0.01}\n",
      "\tCV score test: 0.696112 (R2 0.021475)\tCV score train: 0.699418\n",
      "{'C': 1, 'gamma': 0.1}\n",
      "\tCV score test: 0.696093 (R2 0.021511)\tCV score train: 0.699328\n",
      "{'C': 1, 'gamma': 1}\n",
      "\tCV score test: 0.696285 (R2 0.021040)\tCV score train: 0.699438\n",
      "{'C': 1, 'gamma': 10}\n",
      "\tCV score test: 0.697429 (R2 0.017672)\tCV score train: 0.698005\n",
      "{'C': 10, 'gamma': 0.01}\n",
      "\tCV score test: 0.696055 (R2 0.021641)\tCV score train: 0.699360\n",
      "{'C': 10, 'gamma': 0.1}\n",
      "\tCV score test: 0.696208 (R2 0.021169)\tCV score train: 0.699289\n",
      "{'C': 10, 'gamma': 1}\n",
      "\tCV score test: 0.696470 (R2 0.020480)\tCV score train: 0.699142\n",
      "{'C': 10, 'gamma': 10}\n",
      "\tCV score test: 0.700775 (R2 0.007434)\tCV score train: 0.695927\n",
      "(0.6960545457474288, {'C': 10, 'gamma': 0.01})\n",
      "CPU times: user 1h 45min 49s, sys: 6.38 s, total: 1h 45min 55s\n",
      "Wall time: 1h 45min 55s\n"
     ]
    }
   ],
   "source": [
    "%%time\n",
    "\n",
    "params_svr = {\n",
    "    'gamma': [1e-2, 1e-1, 1, 10], \n",
    "    'C': [1e-2, 1e-1, 1, 10]\n",
    "}\n",
    "\n",
    "print(grid_search_rmse(copy.deepcopy(svr), gridsearch_df, \n",
    "                       predictors, 'y', 3, params_svr))"
   ]
  },
  {
   "cell_type": "code",
   "execution_count": 8,
   "metadata": {},
   "outputs": [
    {
     "name": "stdout",
     "output_type": "stream",
     "text": [
      "{'C': 5, 'gamma': 0.001}\n",
      "\tCV score test: 0.703009 (R2 0.022256)\tCV score train: 0.702799\n",
      "{'C': 5, 'gamma': 0.01}\n",
      "\tCV score test: 0.702948 (R2 0.022438)\tCV score train: 0.702717\n",
      "{'C': 10, 'gamma': 0.001}\n",
      "\tCV score test: 0.702971 (R2 0.022367)\tCV score train: 0.702750\n",
      "{'C': 10, 'gamma': 0.01}\n",
      "\tCV score test: 0.702949 (R2 0.022432)\tCV score train: 0.702713\n",
      "{'C': 20, 'gamma': 0.001}\n",
      "\tCV score test: 0.702948 (R2 0.022435)\tCV score train: 0.702727\n",
      "{'C': 20, 'gamma': 0.01}\n",
      "\tCV score test: 0.702958 (R2 0.022395)\tCV score train: 0.702714\n",
      "(0.7029475654382352, {'C': 5, 'gamma': 0.01})\n"
     ]
    }
   ],
   "source": [
    "params_svr = {\n",
    "    'gamma': [1e-3, 1e-2], \n",
    "    'C': [5, 10, 20]\n",
    "}\n",
    "\n",
    "print(grid_search_rmse(copy.deepcopy(svr), gridsearch_df, \n",
    "                       predictors, 'y', 3, params_svr))"
   ]
  },
  {
   "cell_type": "code",
   "execution_count": 9,
   "metadata": {},
   "outputs": [
    {
     "name": "stdout",
     "output_type": "stream",
     "text": [
      "CPU times: user 22min 14s, sys: 200 ms, total: 22min 14s\n",
      "Wall time: 22min 14s\n"
     ]
    }
   ],
   "source": [
    "%%time\n",
    "\n",
    "svr.set_params(C=5, gamma=0.01)\n",
    "\n",
    "train_df = stack_df.sample(frac=0.3).sort_index()\n",
    "svr.fit(train_df[predictors], train_df['y'])\n",
    "pickle.dump(svr, open(\"./core_models/svr1.pkl\", \"wb\"))"
   ]
  },
  {
   "cell_type": "code",
   "execution_count": null,
   "metadata": {},
   "outputs": [],
   "source": [
    "pred = svr.predict(stack_df[predictors])"
   ]
  },
  {
   "cell_type": "code",
   "execution_count": 26,
   "metadata": {},
   "outputs": [
    {
     "data": {
      "text/plain": [
       "[<matplotlib.lines.Line2D at 0x7f1ed5f344e0>]"
      ]
     },
     "execution_count": 26,
     "metadata": {},
     "output_type": "execute_result"
    },
    {
     "data": {
      "image/png": "[encoded data removed]",
      "text/plain": [
       "<Figure size 432x288 with 1 Axes>"
      ]
     },
     "metadata": {
      "needs_background": "light"
     },
     "output_type": "display_data"
    },
    {
     "data": {
      "image/png": "[encoded data removed]",
      "text/plain": [
       "<Figure size 432x288 with 1 Axes>"
      ]
     },
     "metadata": {
      "needs_background": "light"
     },
     "output_type": "display_data"
    },
    {
     "data": {
      "image/png": "[encoded data removed]",
      "text/plain": [
       "<Figure size 432x288 with 1 Axes>"
      ]
     },
     "metadata": {
      "needs_background": "light"
     },
     "output_type": "display_data"
    },
    {
     "data": {
      "image/png": "[encoded data removed]",
      "text/plain": [
       "<Figure size 432x288 with 1 Axes>"
      ]
     },
     "metadata": {
      "needs_background": "light"
     },
     "output_type": "display_data"
    }
   ],
   "source": [
    "plt.figure()\n",
    "plt.plot(stack_df['xgb_pred'], pred, 'ro')\n",
    "\n",
    "plt.figure()\n",
    "plt.plot(stack_df['regr_h1_pred'], pred, 'o')\n",
    "\n",
    "plt.figure()\n",
    "plt.plot(stack_df['regr_h2_pred'], pred, 'o')\n",
    "\n",
    "plt.figure()\n",
    "plt.plot(stack_df['regr_full_pred'], pred, 'o')"
   ]
  }
 ],
 "metadata": {
  "kernelspec": {
   "display_name": "Python 3",
   "language": "python",
   "name": "python3"
  },
  "language_info": {
   "codemirror_mode": {
    "name": "ipython",
    "version": 3
   },
   "file_extension": ".py",
   "mimetype": "text/x-python",
   "name": "python",
   "nbconvert_exporter": "python",
   "pygments_lexer": "ipython3",
   "version": "3.7.3"
  }
 },
 "nbformat": 4,
 "nbformat_minor": 2
}
