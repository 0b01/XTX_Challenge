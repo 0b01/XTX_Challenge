{
 "cells": [
  {
   "cell_type": "code",
   "execution_count": 3,
   "metadata": {},
   "outputs": [
    {
     "data": {
      "text/html": [
       "<div>\n",
       "<style scoped>\n",
       "    .dataframe tbody tr th:only-of-type {\n",
       "        vertical-align: middle;\n",
       "    }\n",
       "\n",
       "    .dataframe tbody tr th {\n",
       "        vertical-align: top;\n",
       "    }\n",
       "\n",
       "    .dataframe thead th {\n",
       "        text-align: right;\n",
       "    }\n",
       "</style>\n",
       "<table border=\"1\" class=\"dataframe\">\n",
       "  <thead>\n",
       "    <tr style=\"text-align: right;\">\n",
       "      <th></th>\n",
       "      <th>askRate0</th>\n",
       "      <th>askRate1</th>\n",
       "      <th>askRate2</th>\n",
       "      <th>askRate3</th>\n",
       "      <th>askRate4</th>\n",
       "      <th>askRate5</th>\n",
       "      <th>askRate6</th>\n",
       "      <th>askRate7</th>\n",
       "      <th>askRate8</th>\n",
       "      <th>askRate9</th>\n",
       "      <th>...</th>\n",
       "      <th>bidSize6</th>\n",
       "      <th>bidSize7</th>\n",
       "      <th>bidSize8</th>\n",
       "      <th>bidSize9</th>\n",
       "      <th>bidSize10</th>\n",
       "      <th>bidSize11</th>\n",
       "      <th>bidSize12</th>\n",
       "      <th>bidSize13</th>\n",
       "      <th>bidSize14</th>\n",
       "      <th>y</th>\n",
       "    </tr>\n",
       "  </thead>\n",
       "  <tbody>\n",
       "    <tr>\n",
       "      <th>0</th>\n",
       "      <td>1587.0</td>\n",
       "      <td>1587.5</td>\n",
       "      <td>1588.0</td>\n",
       "      <td>1588.5</td>\n",
       "      <td>1589.0</td>\n",
       "      <td>1589.5</td>\n",
       "      <td>1590.0</td>\n",
       "      <td>1590.5</td>\n",
       "      <td>1591.0</td>\n",
       "      <td>1591.5</td>\n",
       "      <td>...</td>\n",
       "      <td>16.0</td>\n",
       "      <td>6.0</td>\n",
       "      <td>15.0</td>\n",
       "      <td>5.0</td>\n",
       "      <td>10.0</td>\n",
       "      <td>2.0</td>\n",
       "      <td>22.0</td>\n",
       "      <td>1.0</td>\n",
       "      <td>1.0</td>\n",
       "      <td>1.0</td>\n",
       "    </tr>\n",
       "    <tr>\n",
       "      <th>1</th>\n",
       "      <td>1587.0</td>\n",
       "      <td>1587.5</td>\n",
       "      <td>1588.0</td>\n",
       "      <td>1588.5</td>\n",
       "      <td>1589.0</td>\n",
       "      <td>1589.5</td>\n",
       "      <td>1590.0</td>\n",
       "      <td>1590.5</td>\n",
       "      <td>1591.0</td>\n",
       "      <td>1591.5</td>\n",
       "      <td>...</td>\n",
       "      <td>16.0</td>\n",
       "      <td>6.0</td>\n",
       "      <td>15.0</td>\n",
       "      <td>5.0</td>\n",
       "      <td>10.0</td>\n",
       "      <td>2.0</td>\n",
       "      <td>22.0</td>\n",
       "      <td>1.0</td>\n",
       "      <td>1.0</td>\n",
       "      <td>1.0</td>\n",
       "    </tr>\n",
       "    <tr>\n",
       "      <th>2</th>\n",
       "      <td>1587.0</td>\n",
       "      <td>1587.5</td>\n",
       "      <td>1588.0</td>\n",
       "      <td>1588.5</td>\n",
       "      <td>1589.0</td>\n",
       "      <td>1589.5</td>\n",
       "      <td>1590.0</td>\n",
       "      <td>1590.5</td>\n",
       "      <td>1591.0</td>\n",
       "      <td>1591.5</td>\n",
       "      <td>...</td>\n",
       "      <td>16.0</td>\n",
       "      <td>6.0</td>\n",
       "      <td>15.0</td>\n",
       "      <td>5.0</td>\n",
       "      <td>10.0</td>\n",
       "      <td>2.0</td>\n",
       "      <td>22.0</td>\n",
       "      <td>1.0</td>\n",
       "      <td>1.0</td>\n",
       "      <td>1.0</td>\n",
       "    </tr>\n",
       "    <tr>\n",
       "      <th>3</th>\n",
       "      <td>1587.0</td>\n",
       "      <td>1587.5</td>\n",
       "      <td>1588.0</td>\n",
       "      <td>1588.5</td>\n",
       "      <td>1589.0</td>\n",
       "      <td>1589.5</td>\n",
       "      <td>1590.0</td>\n",
       "      <td>1590.5</td>\n",
       "      <td>1591.0</td>\n",
       "      <td>1591.5</td>\n",
       "      <td>...</td>\n",
       "      <td>16.0</td>\n",
       "      <td>6.0</td>\n",
       "      <td>15.0</td>\n",
       "      <td>5.0</td>\n",
       "      <td>10.0</td>\n",
       "      <td>2.0</td>\n",
       "      <td>22.0</td>\n",
       "      <td>1.0</td>\n",
       "      <td>1.0</td>\n",
       "      <td>1.0</td>\n",
       "    </tr>\n",
       "    <tr>\n",
       "      <th>4</th>\n",
       "      <td>1587.0</td>\n",
       "      <td>1587.5</td>\n",
       "      <td>1588.0</td>\n",
       "      <td>1588.5</td>\n",
       "      <td>1589.0</td>\n",
       "      <td>1589.5</td>\n",
       "      <td>1590.0</td>\n",
       "      <td>1590.5</td>\n",
       "      <td>1591.0</td>\n",
       "      <td>1591.5</td>\n",
       "      <td>...</td>\n",
       "      <td>16.0</td>\n",
       "      <td>6.0</td>\n",
       "      <td>15.0</td>\n",
       "      <td>5.0</td>\n",
       "      <td>10.0</td>\n",
       "      <td>2.0</td>\n",
       "      <td>22.0</td>\n",
       "      <td>1.0</td>\n",
       "      <td>1.0</td>\n",
       "      <td>1.0</td>\n",
       "    </tr>\n",
       "  </tbody>\n",
       "</table>\n",
       "<p>5 rows × 61 columns</p>\n",
       "</div>"
      ],
      "text/plain": [
       "   askRate0  askRate1  askRate2  askRate3  askRate4  askRate5  askRate6  \\\n",
       "0    1587.0    1587.5    1588.0    1588.5    1589.0    1589.5    1590.0   \n",
       "1    1587.0    1587.5    1588.0    1588.5    1589.0    1589.5    1590.0   \n",
       "2    1587.0    1587.5    1588.0    1588.5    1589.0    1589.5    1590.0   \n",
       "3    1587.0    1587.5    1588.0    1588.5    1589.0    1589.5    1590.0   \n",
       "4    1587.0    1587.5    1588.0    1588.5    1589.0    1589.5    1590.0   \n",
       "\n",
       "   askRate7  askRate8  askRate9  ...  bidSize6  bidSize7  bidSize8  bidSize9  \\\n",
       "0    1590.5    1591.0    1591.5  ...      16.0       6.0      15.0       5.0   \n",
       "1    1590.5    1591.0    1591.5  ...      16.0       6.0      15.0       5.0   \n",
       "2    1590.5    1591.0    1591.5  ...      16.0       6.0      15.0       5.0   \n",
       "3    1590.5    1591.0    1591.5  ...      16.0       6.0      15.0       5.0   \n",
       "4    1590.5    1591.0    1591.5  ...      16.0       6.0      15.0       5.0   \n",
       "\n",
       "   bidSize10  bidSize11  bidSize12  bidSize13  bidSize14    y  \n",
       "0       10.0        2.0       22.0        1.0        1.0  1.0  \n",
       "1       10.0        2.0       22.0        1.0        1.0  1.0  \n",
       "2       10.0        2.0       22.0        1.0        1.0  1.0  \n",
       "3       10.0        2.0       22.0        1.0        1.0  1.0  \n",
       "4       10.0        2.0       22.0        1.0        1.0  1.0  \n",
       "\n",
       "[5 rows x 61 columns]"
      ]
     },
     "execution_count": 3,
     "metadata": {},
     "output_type": "execute_result"
    }
   ],
   "source": [
    "import pandas as pd\n",
    "import numpy as np\n",
    "import matplotlib.pyplot as plt\n",
    "pd.options.display.max_rows = 4000\n",
    "pd.options.display.max_seq_items = 2000\n",
    "%matplotlib inline\n",
    "\n",
    "data = pd.read_csv('/home/alex/Documents/AlgoTrading/XTX Challenge/XTXStarterKit-master/data.csv')\n",
    "data.head()"
   ]
  },
  {
   "cell_type": "code",
   "execution_count": 4,
   "metadata": {},
   "outputs": [
    {
     "name": "stdout",
     "output_type": "stream",
     "text": [
      "(20000,)\n"
     ]
    },
    {
     "data": {
      "image/png": "[encoded data removed]",
      "text/plain": [
       "<Figure size 432x288 with 1 Axes>"
      ]
     },
     "metadata": {
      "needs_background": "light"
     },
     "output_type": "display_data"
    }
   ],
   "source": [
    "process_data = np.array(data['askRate0'])\n",
    "plt.plot(process_data)\n",
    "print(process_data.shape)"
   ]
  },
  {
   "cell_type": "code",
   "execution_count": 14,
   "metadata": {},
   "outputs": [],
   "source": [
    "\n",
    "\n",
    "xhat = np.zeros((process_data.shape[0], 2))      # a posteri estimate of x\n",
    "P = np.identity(2)                            # a posteri error estimate\n",
    "xhatminus = np.zeros((process_data.shape[0], 2)) # a priori estimate of x\n",
    "Pminus = np.identity(2)                      # a priori error estimate\n",
    "K = np.zeros((2, 2))                  # gain or blending factor\n",
    "Q = np.identity(2) * 0.1**7           # process variance\n",
    "R = np.identity(2) * 0.1**2           # estimate of measurement variance, change to see effect\n",
    "A = np.array([[1, 1], [0, 1]])\n",
    "H = np.array([[1], [1]])\n",
    "\n",
    "xhat[0, 0] = process_data[0]\n",
    "xhat[0, 1] = 0\n",
    "P[0] = \n",
    "\n",
    "for k in range(1, process_data.shape[0]):\n",
    "    # time update\n",
    "    xhatminus[k] = A @ xhat[k-1, :]\n",
    "    Pminus = A @ P @ np.transpose(A) + Q\n",
    "\n",
    "    # measurement update\n",
    "    K = Pminus @ np.transpose(H) * np.inverse(H @ Pminus[k] @ np.transpose(H) + R)\n",
    "#     xhat[k] = xhatminus[k] + K[k] * (process_data[k] - xhatminus[k])\n",
    "#     P[k] = (1 - K[k]) * Pminus[k]"
   ]
  },
  {
   "cell_type": "code",
   "execution_count": 12,
   "metadata": {},
   "outputs": [
    {
     "data": {
      "text/plain": [
       "array([1587.,    0.])"
      ]
     },
     "execution_count": 12,
     "metadata": {},
     "output_type": "execute_result"
    }
   ],
   "source": [
    "A @ xhat[0,] "
   ]
  },
  {
   "cell_type": "code",
   "execution_count": 101,
   "metadata": {
    "scrolled": true
   },
   "outputs": [
    {
     "data": {
      "text/plain": [
       "[<matplotlib.lines.Line2D at 0x7fe3d5909160>]"
      ]
     },
     "execution_count": 101,
     "metadata": {},
     "output_type": "execute_result"
    },
    {
     "data": {
      "image/png": "[encoded data removed]",
      "text/plain": [
       "<Figure size 432x288 with 1 Axes>"
      ]
     },
     "metadata": {
      "needs_background": "light"
     },
     "output_type": "display_data"
    }
   ],
   "source": [
    "plt.plot(xhat)\n",
    "plt.plot(process_data)"
   ]
  },
  {
   "cell_type": "code",
   "execution_count": 97,
   "metadata": {},
   "outputs": [
    {
     "data": {
      "text/plain": [
       "[<matplotlib.lines.Line2D at 0x7fe3d59ad978>]"
      ]
     },
     "execution_count": 97,
     "metadata": {},
     "output_type": "execute_result"
    },
    {
     "data": {
      "image/png": "[encoded data removed]",
      "text/plain": [
       "<Figure size 432x288 with 1 Axes>"
      ]
     },
     "metadata": {
      "needs_background": "light"
     },
     "output_type": "display_data"
    }
   ],
   "source": [
    "plt.plot(K[-1000:])"
   ]
  },
  {
   "cell_type": "code",
   "execution_count": 77,
   "metadata": {},
   "outputs": [],
   "source": [
    "from pykalman import KalmanFilter\n",
    "\n",
    "kf = KalmanFilter(transition_matrices = [[1]], observation_matrices = [[.1]])\n",
    "xhat = np.zeros(process_data.shape) \n",
    "P = np.zeros(process_data.shape)\n",
    "\n",
    "xhat[0] = process_data[0]\n",
    "P[0] = 1000\n",
    "\n",
    "for t in range(1, process_data.shape[0]):\n",
    "    xhat[t], P[t] = kf.filter_update(xhat[t-1], P[t-1], process_data[t])\n",
    "    "
   ]
  },
  {
   "cell_type": "code",
   "execution_count": 76,
   "metadata": {},
   "outputs": [
    {
     "data": {
      "text/plain": [
       "[<matplotlib.lines.Line2D at 0x7fe3d5ef82b0>]"
      ]
     },
     "execution_count": 76,
     "metadata": {},
     "output_type": "execute_result"
    },
    {
     "data": {
      "image/png": "[encoded data removed]",
      "text/plain": [
       "<Figure size 432x288 with 1 Axes>"
      ]
     },
     "metadata": {
      "needs_background": "light"
     },
     "output_type": "display_data"
    }
   ],
   "source": [
    "plt.plot(xhat)\n",
    "plt.plot(process_data)"
   ]
  }
 ],
 "metadata": {
  "kernelspec": {
   "display_name": "Python 3",
   "language": "python",
   "name": "python3"
  },
  "language_info": {
   "codemirror_mode": {
    "name": "ipython",
    "version": 3
   },
   "file_extension": ".py",
   "mimetype": "text/x-python",
   "name": "python",
   "nbconvert_exporter": "python",
   "pygments_lexer": "ipython3",
   "version": "3.7.3"
  }
 },
 "nbformat": 4,
 "nbformat_minor": 2
}
